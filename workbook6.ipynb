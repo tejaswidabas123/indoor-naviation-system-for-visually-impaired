{
 "cells": [
  {
   "cell_type": "code",
   "execution_count": 122,
   "metadata": {},
   "outputs": [],
   "source": [
    "import pandas as pd \n",
    "import numpy as np\n",
    "import json\n",
    "import math\n",
    "import networkx as nx\n"
   ]
  },
  {
   "cell_type": "code",
   "execution_count": 123,
   "metadata": {},
   "outputs": [],
   "source": [
    "curr_checkpoint = 1\n",
    "prev_checkpoint = 0\n",
    "dest_checkpoint = 8"
   ]
  },
  {
   "cell_type": "code",
   "execution_count": 124,
   "metadata": {},
   "outputs": [],
   "source": [
    "checkpoint_df = pd.read_csv('./checkpoint.csv')"
   ]
  },
  {
   "cell_type": "code",
   "execution_count": 125,
   "metadata": {},
   "outputs": [],
   "source": [
    "prev_coord = checkpoint_df.loc[checkpoint_df['labels'] == prev_checkpoint, 'coordinates'].values[0].split('_')\n",
    "curr_coord = checkpoint_df.loc[checkpoint_df['labels'] == curr_checkpoint, 'coordinates'].values[0].split('_')\n",
    "dirr_vector = np.array([int(curr_coord[0]) - int(prev_coord[0]), int(curr_coord[1]) - int(prev_coord[1])])"
   ]
  },
  {
   "cell_type": "code",
   "execution_count": 126,
   "metadata": {},
   "outputs": [
    {
     "data": {
      "text/plain": [
       "['250', '655']"
      ]
     },
     "execution_count": 126,
     "metadata": {},
     "output_type": "execute_result"
    }
   ],
   "source": [
    "curr_coord"
   ]
  },
  {
   "cell_type": "code",
   "execution_count": 127,
   "metadata": {},
   "outputs": [],
   "source": [
    "graph_dic = json.load(open('./neighbourMatrix.json'))\n",
    "G = nx.DiGraph()\n",
    "\n",
    "for key,val in graph_dic.items():\n",
    "    # val is all the neighbours of key so we only need the distance for that in the matrix rest can be set to infinity\n",
    "    curr_check = int(key)\n",
    "    curr_coordinates = checkpoint_df.loc[checkpoint_df['labels'] == curr_check, 'coordinates'].values[0].split('_')\n",
    "    for i in val:\n",
    "        neighbour = int(i)\n",
    "        neighbour_coord = checkpoint_df.loc[checkpoint_df['labels'] == neighbour, 'coordinates'].values[0].split('_')\n",
    "        \n",
    "        distance = math.sqrt((int(curr_coordinates[0]) - int(neighbour_coord[0]))**2 + (int(curr_coordinates[1]) - int(neighbour_coord[1]))**2)\n",
    "        G.add_edge(curr_check,neighbour,weight=distance)"
   ]
  },
  {
   "cell_type": "code",
   "execution_count": 128,
   "metadata": {},
   "outputs": [],
   "source": [
    "shortest_path = nx.dijkstra_path(G, source=curr_checkpoint, target=dest_checkpoint, weight='weight')"
   ]
  },
  {
   "cell_type": "code",
   "execution_count": 129,
   "metadata": {},
   "outputs": [],
   "source": [
    "if len(shortest_path) == 1:\n",
    "    print(\"Arrived at the destination\")"
   ]
  },
  {
   "cell_type": "code",
   "execution_count": 130,
   "metadata": {},
   "outputs": [
    {
     "name": "stdout",
     "output_type": "stream",
     "text": [
      "2\n"
     ]
    }
   ],
   "source": [
    "next_checkpoint = shortest_path[1]\n",
    "print(next_checkpoint)\n",
    "next_coord = checkpoint_df.loc[checkpoint_df['labels'] == next_checkpoint]['coordinates'].values[0].split('_')\n",
    "final_dirr_vector = np.array([int(next_coord[0]) - int(curr_coord[0]), int(next_coord[1]) - int(curr_coord[1])])"
   ]
  },
  {
   "cell_type": "code",
   "execution_count": 135,
   "metadata": {},
   "outputs": [],
   "source": [
    "turn_angle = math.acos(final_dirr_vector.dot(dirr_vector) / math.sqrt((final_dirr_vector[0]**2 + final_dirr_vector[1]**2)*(dirr_vector[0]**2 + dirr_vector[1]**2))) * 180 / math.pi\n",
    "final_dirr = final_dirr_vector / math.sqrt(final_dirr_vector[0]**2 + final_dirr_vector[1]**2)\n",
    "initial_dirr = dirr_vector / math.sqrt(dirr_vector[0]**2 + dirr_vector[1]**2)"
   ]
  },
  {
   "cell_type": "code",
   "execution_count": 139,
   "metadata": {},
   "outputs": [
    {
     "data": {
      "text/plain": [
       "(array([ 0., -1.]), array([1., 0.]))"
      ]
     },
     "execution_count": 139,
     "metadata": {},
     "output_type": "execute_result"
    }
   ],
   "source": [
    "final_dirr, initial_dirr"
   ]
  },
  {
   "cell_type": "code",
   "execution_count": null,
   "metadata": {},
   "outputs": [],
   "source": []
  },
  {
   "cell_type": "code",
   "execution_count": null,
   "metadata": {},
   "outputs": [],
   "source": []
  }
 ],
 "metadata": {
  "kernelspec": {
   "display_name": ".venv",
   "language": "python",
   "name": "python3"
  },
  "language_info": {
   "codemirror_mode": {
    "name": "ipython",
    "version": 3
   },
   "file_extension": ".py",
   "mimetype": "text/x-python",
   "name": "python",
   "nbconvert_exporter": "python",
   "pygments_lexer": "ipython3",
   "version": "3.10.12"
  }
 },
 "nbformat": 4,
 "nbformat_minor": 2
}
