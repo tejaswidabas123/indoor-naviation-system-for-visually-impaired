{
 "cells": [
  {
   "cell_type": "code",
   "execution_count": 18,
   "metadata": {},
   "outputs": [],
   "source": [
    "import cv2\n",
    "import os\n",
    "import csv"
   ]
  },
  {
   "cell_type": "code",
   "execution_count": 25,
   "metadata": {},
   "outputs": [
    {
     "name": "stdout",
     "output_type": "stream",
     "text": [
      "Video read successful!\n",
      "Total frames: 901\n",
      "width: 1080\n",
      "height: 1920\n",
      "fps: 30.0\n"
     ]
    }
   ],
   "source": [
    "cap = cv2.VideoCapture('./video/VID_20231103_132944.mp4')\n",
    "if not cap.isOpened(): \n",
    "    print(\"Could not open!\")\n",
    "else:\n",
    "    print(\"Video read successful!\")\n",
    "    total_frames = int(cap.get(cv2.CAP_PROP_FRAME_COUNT))\n",
    "    width  = int(cap.get(cv2.CAP_PROP_FRAME_WIDTH))\n",
    "    height = int(cap.get(cv2.CAP_PROP_FRAME_HEIGHT))\n",
    "    fps    = cap.get(cv2.CAP_PROP_FPS)\n",
    "    print('Total frames: ' + str(total_frames))\n",
    "    print('width: ' + str(width))\n",
    "    print('height: ' + str(height))\n",
    "    print('fps: ' + str(fps))\n",
    "success, frame = cap.read()"
   ]
  },
  {
   "cell_type": "code",
   "execution_count": 23,
   "metadata": {},
   "outputs": [],
   "source": [
    "if not os.path.exists('./images'):\n",
    "    os.makedirs('./images')"
   ]
  },
  {
   "cell_type": "code",
   "execution_count": 26,
   "metadata": {},
   "outputs": [
    {
     "name": "stdout",
     "output_type": "stream",
     "text": [
      "Complete\n"
     ]
    }
   ],
   "source": [
    "\n",
    "while success:\n",
    "    frameId = int(round(cap.get(1))) #current frame number, rounded b/c sometimes you get frame intervals which aren't integers...this adds a little imprecision but is likely good enough\n",
    "    \n",
    "    if frameId % 5 == 0:\n",
    "        cv2.imwrite(\"./images/Test_Image_1_%d.jpg\" % frameId, image)\n",
    "    success, image = cap.read()\n",
    "cap.release()\n",
    "print (\"Complete\")"
   ]
  },
  {
   "cell_type": "code",
   "execution_count": 34,
   "metadata": {},
   "outputs": [],
   "source": [
    "filenames = os.listdir('./images/')\n",
    "filenames = sorted(filenames,key= lambda x: int(x.split('_')[2])*100000 + int(x.split('_')[3][:-4]))"
   ]
  },
  {
   "cell_type": "code",
   "execution_count": 35,
   "metadata": {},
   "outputs": [
    {
     "data": {
      "text/plain": [
       "'Test_Image_1_5.jpg'"
      ]
     },
     "execution_count": 35,
     "metadata": {},
     "output_type": "execute_result"
    }
   ],
   "source": [
    "filenames[0]"
   ]
  },
  {
   "cell_type": "code",
   "execution_count": 36,
   "metadata": {},
   "outputs": [
    {
     "name": "stdout",
     "output_type": "stream",
     "text": [
      "Filenames have been saved to labels.csv\n"
     ]
    }
   ],
   "source": [
    "\n",
    "csv_filename = 'labels.csv'\n",
    "\n",
    "with open(csv_filename, 'w', newline='') as csvfile:\n",
    "    csv_writer = csv.writer(csvfile)\n",
    "    csv_writer.writerow(['file'])  # Write a header row\n",
    "\n",
    "    for filename in filenames:\n",
    "        csv_writer.writerow([filename[:-4]])\n",
    "\n",
    "print(f'Filenames have been saved to {csv_filename}')"
   ]
  },
  {
   "cell_type": "code",
   "execution_count": 38,
   "metadata": {},
   "outputs": [],
   "source": [
    "import pandas as pd"
   ]
  },
  {
   "cell_type": "code",
   "execution_count": 39,
   "metadata": {},
   "outputs": [],
   "source": [
    "data_frame = pd.read_csv('labels.csv')"
   ]
  },
  {
   "cell_type": "code",
   "execution_count": 40,
   "metadata": {},
   "outputs": [
    {
     "data": {
      "text/html": [
       "<div>\n",
       "<style scoped>\n",
       "    .dataframe tbody tr th:only-of-type {\n",
       "        vertical-align: middle;\n",
       "    }\n",
       "\n",
       "    .dataframe tbody tr th {\n",
       "        vertical-align: top;\n",
       "    }\n",
       "\n",
       "    .dataframe thead th {\n",
       "        text-align: right;\n",
       "    }\n",
       "</style>\n",
       "<table border=\"1\" class=\"dataframe\">\n",
       "  <thead>\n",
       "    <tr style=\"text-align: right;\">\n",
       "      <th></th>\n",
       "      <th>file</th>\n",
       "      <th>labels</th>\n",
       "    </tr>\n",
       "  </thead>\n",
       "  <tbody>\n",
       "    <tr>\n",
       "      <th>0</th>\n",
       "      <td>Test_Image_1_5</td>\n",
       "      <td>NaN</td>\n",
       "    </tr>\n",
       "    <tr>\n",
       "      <th>1</th>\n",
       "      <td>Test_Image_1_10</td>\n",
       "      <td>NaN</td>\n",
       "    </tr>\n",
       "    <tr>\n",
       "      <th>2</th>\n",
       "      <td>Test_Image_1_15</td>\n",
       "      <td>NaN</td>\n",
       "    </tr>\n",
       "    <tr>\n",
       "      <th>3</th>\n",
       "      <td>Test_Image_1_20</td>\n",
       "      <td>NaN</td>\n",
       "    </tr>\n",
       "    <tr>\n",
       "      <th>4</th>\n",
       "      <td>Test_Image_1_25</td>\n",
       "      <td>NaN</td>\n",
       "    </tr>\n",
       "    <tr>\n",
       "      <th>...</th>\n",
       "      <td>...</td>\n",
       "      <td>...</td>\n",
       "    </tr>\n",
       "    <tr>\n",
       "      <th>1119</th>\n",
       "      <td>Test_Image_2_4705</td>\n",
       "      <td>NaN</td>\n",
       "    </tr>\n",
       "    <tr>\n",
       "      <th>1120</th>\n",
       "      <td>Test_Image_2_4710</td>\n",
       "      <td>NaN</td>\n",
       "    </tr>\n",
       "    <tr>\n",
       "      <th>1121</th>\n",
       "      <td>Test_Image_2_4715</td>\n",
       "      <td>NaN</td>\n",
       "    </tr>\n",
       "    <tr>\n",
       "      <th>1122</th>\n",
       "      <td>Test_Image_2_4720</td>\n",
       "      <td>NaN</td>\n",
       "    </tr>\n",
       "    <tr>\n",
       "      <th>1123</th>\n",
       "      <td>Test_Image_2_4725</td>\n",
       "      <td>NaN</td>\n",
       "    </tr>\n",
       "  </tbody>\n",
       "</table>\n",
       "<p>1124 rows × 2 columns</p>\n",
       "</div>"
      ],
      "text/plain": [
       "                   file  labels\n",
       "0        Test_Image_1_5     NaN\n",
       "1       Test_Image_1_10     NaN\n",
       "2       Test_Image_1_15     NaN\n",
       "3       Test_Image_1_20     NaN\n",
       "4       Test_Image_1_25     NaN\n",
       "...                 ...     ...\n",
       "1119  Test_Image_2_4705     NaN\n",
       "1120  Test_Image_2_4710     NaN\n",
       "1121  Test_Image_2_4715     NaN\n",
       "1122  Test_Image_2_4720     NaN\n",
       "1123  Test_Image_2_4725     NaN\n",
       "\n",
       "[1124 rows x 2 columns]"
      ]
     },
     "execution_count": 40,
     "metadata": {},
     "output_type": "execute_result"
    }
   ],
   "source": [
    "data_frame"
   ]
  },
  {
   "cell_type": "code",
   "execution_count": 41,
   "metadata": {},
   "outputs": [],
   "source": [
    "Vid1 = {\n",
    "  0: 15,\n",
    "  1: 30,\n",
    "}\n",
    "\n",
    "Vid2={\n",
    "  2: 20,\n",
    "  3: 60,\n",
    "  4: 90,\n",
    "  5: 100,\n",
    "  6 : 105,\n",
    "  7 : 130,\n",
    "  8 :  156\n",
    "}\n"
   ]
  },
  {
   "cell_type": "code",
   "execution_count": 97,
   "metadata": {},
   "outputs": [],
   "source": [
    "data_frame.loc[data_frame['file'].isin([f'Test_Image_2_{x}' for x in range(130*6*5, 156*6*5+1, 5)]), 'labels'] = 8"
   ]
  },
  {
   "cell_type": "code",
   "execution_count": 84,
   "metadata": {},
   "outputs": [
    {
     "name": "stdout",
     "output_type": "stream",
     "text": [
      "['Test_Image_1_0', 'Test_Image_1_5', 'Test_Image_1_10', 'Test_Image_1_15', 'Test_Image_1_20', 'Test_Image_1_25', 'Test_Image_1_30', 'Test_Image_1_35', 'Test_Image_1_40', 'Test_Image_1_45', 'Test_Image_1_50', 'Test_Image_1_55', 'Test_Image_1_60', 'Test_Image_1_65', 'Test_Image_1_70', 'Test_Image_1_75', 'Test_Image_1_80', 'Test_Image_1_85', 'Test_Image_1_90', 'Test_Image_1_95', 'Test_Image_1_100', 'Test_Image_1_105', 'Test_Image_1_110', 'Test_Image_1_115', 'Test_Image_1_120', 'Test_Image_1_125', 'Test_Image_1_130', 'Test_Image_1_135', 'Test_Image_1_140', 'Test_Image_1_145', 'Test_Image_1_150', 'Test_Image_1_155', 'Test_Image_1_160', 'Test_Image_1_165', 'Test_Image_1_170', 'Test_Image_1_175', 'Test_Image_1_180', 'Test_Image_1_185', 'Test_Image_1_190', 'Test_Image_1_195', 'Test_Image_1_200', 'Test_Image_1_205', 'Test_Image_1_210', 'Test_Image_1_215', 'Test_Image_1_220', 'Test_Image_1_225', 'Test_Image_1_230', 'Test_Image_1_235', 'Test_Image_1_240', 'Test_Image_1_245', 'Test_Image_1_250', 'Test_Image_1_255', 'Test_Image_1_260', 'Test_Image_1_265', 'Test_Image_1_270', 'Test_Image_1_275', 'Test_Image_1_280', 'Test_Image_1_285', 'Test_Image_1_290', 'Test_Image_1_295', 'Test_Image_1_300', 'Test_Image_1_305', 'Test_Image_1_310', 'Test_Image_1_315', 'Test_Image_1_320', 'Test_Image_1_325', 'Test_Image_1_330', 'Test_Image_1_335', 'Test_Image_1_340', 'Test_Image_1_345', 'Test_Image_1_350', 'Test_Image_1_355', 'Test_Image_1_360', 'Test_Image_1_365', 'Test_Image_1_370', 'Test_Image_1_375', 'Test_Image_1_380', 'Test_Image_1_385', 'Test_Image_1_390', 'Test_Image_1_395', 'Test_Image_1_400', 'Test_Image_1_405', 'Test_Image_1_410', 'Test_Image_1_415', 'Test_Image_1_420', 'Test_Image_1_425', 'Test_Image_1_430', 'Test_Image_1_435', 'Test_Image_1_440', 'Test_Image_1_445', 'Test_Image_1_450']\n"
     ]
    }
   ],
   "source": [
    "print([f'Test_Image_1_{x}' for x in range(0,15*6*5+1,5)])"
   ]
  },
  {
   "cell_type": "code",
   "execution_count": 85,
   "metadata": {},
   "outputs": [
    {
     "data": {
      "text/html": [
       "<div>\n",
       "<style scoped>\n",
       "    .dataframe tbody tr th:only-of-type {\n",
       "        vertical-align: middle;\n",
       "    }\n",
       "\n",
       "    .dataframe tbody tr th {\n",
       "        vertical-align: top;\n",
       "    }\n",
       "\n",
       "    .dataframe thead th {\n",
       "        text-align: right;\n",
       "    }\n",
       "</style>\n",
       "<table border=\"1\" class=\"dataframe\">\n",
       "  <thead>\n",
       "    <tr style=\"text-align: right;\">\n",
       "      <th></th>\n",
       "      <th>file</th>\n",
       "      <th>labels</th>\n",
       "    </tr>\n",
       "  </thead>\n",
       "  <tbody>\n",
       "    <tr>\n",
       "      <th>0</th>\n",
       "      <td>Test_Image_1_5</td>\n",
       "      <td>0.0</td>\n",
       "    </tr>\n",
       "    <tr>\n",
       "      <th>1</th>\n",
       "      <td>Test_Image_1_10</td>\n",
       "      <td>0.0</td>\n",
       "    </tr>\n",
       "    <tr>\n",
       "      <th>2</th>\n",
       "      <td>Test_Image_1_15</td>\n",
       "      <td>0.0</td>\n",
       "    </tr>\n",
       "    <tr>\n",
       "      <th>3</th>\n",
       "      <td>Test_Image_1_20</td>\n",
       "      <td>0.0</td>\n",
       "    </tr>\n",
       "    <tr>\n",
       "      <th>4</th>\n",
       "      <td>Test_Image_1_25</td>\n",
       "      <td>0.0</td>\n",
       "    </tr>\n",
       "    <tr>\n",
       "      <th>...</th>\n",
       "      <td>...</td>\n",
       "      <td>...</td>\n",
       "    </tr>\n",
       "    <tr>\n",
       "      <th>85</th>\n",
       "      <td>Test_Image_1_430</td>\n",
       "      <td>0.0</td>\n",
       "    </tr>\n",
       "    <tr>\n",
       "      <th>86</th>\n",
       "      <td>Test_Image_1_435</td>\n",
       "      <td>0.0</td>\n",
       "    </tr>\n",
       "    <tr>\n",
       "      <th>87</th>\n",
       "      <td>Test_Image_1_440</td>\n",
       "      <td>0.0</td>\n",
       "    </tr>\n",
       "    <tr>\n",
       "      <th>88</th>\n",
       "      <td>Test_Image_1_445</td>\n",
       "      <td>0.0</td>\n",
       "    </tr>\n",
       "    <tr>\n",
       "      <th>89</th>\n",
       "      <td>Test_Image_1_450</td>\n",
       "      <td>0.0</td>\n",
       "    </tr>\n",
       "  </tbody>\n",
       "</table>\n",
       "<p>90 rows × 2 columns</p>\n",
       "</div>"
      ],
      "text/plain": [
       "                file  labels\n",
       "0     Test_Image_1_5     0.0\n",
       "1    Test_Image_1_10     0.0\n",
       "2    Test_Image_1_15     0.0\n",
       "3    Test_Image_1_20     0.0\n",
       "4    Test_Image_1_25     0.0\n",
       "..               ...     ...\n",
       "85  Test_Image_1_430     0.0\n",
       "86  Test_Image_1_435     0.0\n",
       "87  Test_Image_1_440     0.0\n",
       "88  Test_Image_1_445     0.0\n",
       "89  Test_Image_1_450     0.0\n",
       "\n",
       "[90 rows x 2 columns]"
      ]
     },
     "execution_count": 85,
     "metadata": {},
     "output_type": "execute_result"
    }
   ],
   "source": [
    "data_frame[ data_frame['file'].isin([f'Test_Image_1_{x}' for x in range(0,15*6*5+1,5)]) ]"
   ]
  },
  {
   "cell_type": "code",
   "execution_count": 99,
   "metadata": {},
   "outputs": [],
   "source": [
    "data_frame.to_csv('labels.csv', index=False)"
   ]
  },
  {
   "cell_type": "code",
   "execution_count": null,
   "metadata": {},
   "outputs": [],
   "source": []
  }
 ],
 "metadata": {
  "kernelspec": {
   "display_name": ".venv",
   "language": "python",
   "name": "python3"
  },
  "language_info": {
   "codemirror_mode": {
    "name": "ipython",
    "version": 3
   },
   "file_extension": ".py",
   "mimetype": "text/x-python",
   "name": "python",
   "nbconvert_exporter": "python",
   "pygments_lexer": "ipython3",
   "version": "3.10.12"
  }
 },
 "nbformat": 4,
 "nbformat_minor": 2
}
